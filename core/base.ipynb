{
 "cells": [
  {
   "cell_type": "code",
   "execution_count": 1,
   "metadata": {},
   "outputs": [],
   "source": [
    "import time\n",
    "from langchain_community.llms import Ollama"
   ]
  },
  {
   "cell_type": "code",
   "execution_count": 2,
   "metadata": {},
   "outputs": [],
   "source": [
    "# create a model object.\n",
    "llama = Ollama(model=\"llama3\")"
   ]
  },
  {
   "cell_type": "code",
   "execution_count": 4,
   "metadata": {},
   "outputs": [],
   "source": [
    "# we can call model's invoke method to directly chat with the model.\n",
    "# llama.invoke(\"Good Evening\")"
   ]
  },
  {
   "cell_type": "code",
   "execution_count": 3,
   "metadata": {},
   "outputs": [],
   "source": [
    "# query = \"What do to with stupid consultants? dont be formal just be real how can I insult him in a meeting.\"\n",
    "# line = ''\n",
    "\n",
    "\n",
    "# # If we want to stream output line by line.\n",
    "# for chunk in llama.stream(query):\n",
    "#     if chunk == ',' or chunk == '.' or chunk == '\\n':\n",
    "#         line += chunk\n",
    "#         print(line)\n",
    "#         time.sleep(1.3)\n",
    "#         line = \"\"\n",
    "    \n",
    "#     else:\n",
    "#         line += chunk\n",
    "\n",
    "# print(line)\n",
    "    \n"
   ]
  },
  {
   "cell_type": "markdown",
   "metadata": {},
   "source": [
    "### String output parser"
   ]
  },
  {
   "cell_type": "code",
   "execution_count": 5,
   "metadata": {},
   "outputs": [],
   "source": [
    "# from langchain_core.output_parsers import StrOutputParser\n",
    "\n",
    "# parser = StrOutputParser()\n",
    "\n",
    "# result = llama.invoke('hello!')\n",
    "\n",
    "# parser.invoke(result)"
   ]
  },
  {
   "cell_type": "markdown",
   "metadata": {},
   "source": [
    "### Chain string output parser and model to use single invoke method "
   ]
  },
  {
   "cell_type": "code",
   "execution_count": 6,
   "metadata": {},
   "outputs": [],
   "source": [
    "# chain = llama | parser\n",
    "# chain.invoke('hello')\n"
   ]
  },
  {
   "cell_type": "markdown",
   "metadata": {},
   "source": [
    "## 📗 Prompt template Basics 📗 ##"
   ]
  },
  {
   "cell_type": "code",
   "execution_count": 22,
   "metadata": {},
   "outputs": [
    {
     "name": "stdout",
     "output_type": "stream",
     "text": [
      "input_variables=['content'] template='tell me a funny joke about {content}'\n",
      "tell me a funny joke about elephant\n",
      "input_variables=['adjective', 'content'] template='Tell me a {adjective} joke about {content}'\n",
      "Tell me a funny joke about elephant\n"
     ]
    }
   ],
   "source": [
    "from langchain_core.prompts import PromptTemplate\n",
    "\n",
    "# Using from_template method syntax - directly format a template\n",
    "prompt1 = PromptTemplate.from_template('tell me a funny joke about {content}')\n",
    "\n",
    "print(prompt1) # PromptTemplate object returned by from_template method.\n",
    "print(prompt1.format(content = 'elephant')) # final prompt.\n",
    "\n",
    "######----____-----#####\n",
    "\n",
    "# using PromptTemplate class, initiating a PromptTemplate object directly.\n",
    "prompt2 = PromptTemplate(\n",
    "    template='Tell me a {adjective} joke about {content}',\n",
    "    input_variables=['adjective', 'content']\n",
    ")\n",
    "\n",
    "print(prompt2) # PromptTemplate object directly created by initiating a class.\n",
    "print(prompt2.format(adjective='funny',content= 'elephant'))"
   ]
  },
  {
   "cell_type": "code",
   "execution_count": null,
   "metadata": {},
   "outputs": [],
   "source": [
    "from langchain_core.prompts import PromptTemplate,few\n",
    "from labn\n"
   ]
  },
  {
   "cell_type": "code",
   "execution_count": 8,
   "metadata": {},
   "outputs": [
    {
     "ename": "TypeError",
     "evalue": "RunnableSequence.invoke() missing 1 required positional argument: 'input'",
     "output_type": "error",
     "traceback": [
      "\u001b[0;31m---------------------------------------------------------------------------\u001b[0m",
      "\u001b[0;31mTypeError\u001b[0m                                 Traceback (most recent call last)",
      "Cell \u001b[0;32mIn[8], line 36\u001b[0m\n\u001b[1;32m     33\u001b[0m chain: LLMChain \u001b[38;5;241m=\u001b[39m chat_model\u001b[38;5;241m|\u001b[39mchat_prompt\n\u001b[1;32m     35\u001b[0m \u001b[38;5;66;03m# make a call to the models\u001b[39;00m\n\u001b[0;32m---> 36\u001b[0m prediction_msg: \u001b[38;5;28mdict\u001b[39m \u001b[38;5;241m=\u001b[39m \u001b[43mchain\u001b[49m\u001b[38;5;241;43m.\u001b[39;49m\u001b[43minvoke\u001b[49m\u001b[43m(\u001b[49m\n\u001b[1;32m     37\u001b[0m \u001b[43m    \u001b[49m\u001b[43moriginal_sentence\u001b[49m\u001b[38;5;241;43m=\u001b[39;49m\u001b[38;5;124;43m\"\u001b[39;49m\u001b[38;5;124;43mI love Pizza!\u001b[39;49m\u001b[38;5;124;43m\"\u001b[39;49m\u001b[43m,\u001b[49m\u001b[43m \u001b[49m\u001b[43mdesired_language\u001b[49m\u001b[38;5;241;43m=\u001b[39;49m\u001b[38;5;124;43m\"\u001b[39;49m\u001b[38;5;124;43mFrench\u001b[39;49m\u001b[38;5;124;43m\"\u001b[39;49m\u001b[43m)\u001b[49m\n\u001b[1;32m     39\u001b[0m \u001b[38;5;28mprint\u001b[39m(\u001b[38;5;124m\"\u001b[39m\u001b[38;5;124m#######################################\u001b[39m\u001b[38;5;124m\"\u001b[39m)\n\u001b[1;32m     40\u001b[0m \u001b[38;5;28mprint\u001b[39m(prediction_msg)\n",
      "\u001b[0;31mTypeError\u001b[0m: RunnableSequence.invoke() missing 1 required positional argument: 'input'"
     ]
    }
   ],
   "source": [
    "#### Chat models with Prompts ####\n",
    "\n",
    "from langchain.prompts.chat import ( ChatPromptTemplate, SystemMessagePromptTemplate, HumanMessagePromptTemplate, )\n",
    "\n",
    "# from langchain.chat_models import ChatOpenAI\n",
    "from langchain.chat_models import ChatOllama\n",
    "from langchain.chains import LLMChain\n",
    "from langchain import PromptTemplate\n",
    "\n",
    "# Create the first prompt template\n",
    "sys_prompt: PromptTemplate = PromptTemplate(\n",
    "    input_variables=[\"original_sentence\", \"desired_language\"],\n",
    "    template=\"\"\"You are a language translator, an English speaker wants to translate/\n",
    "    {original_sentence} to {desired_language}. Tell him the correct answer.\"\"\"\n",
    ")\n",
    "\n",
    "system_message_prompt = SystemMessagePromptTemplate(prompt=sys_prompt)\n",
    "\n",
    "student_prompt: PromptTemplate = PromptTemplate(\n",
    "    input_variables=[\"original_sentence\", \"desired_language\"],\n",
    "    template=\"Translate {original_sentence} to {desired_language}\"\n",
    ")\n",
    "student_message_prompt = HumanMessagePromptTemplate(prompt=student_prompt)\n",
    "\n",
    "chat_prompt = ChatPromptTemplate.from_messages(\n",
    "    [system_message_prompt, student_message_prompt])\n",
    "\n",
    "# create the chat model\n",
    "chat_model: ChatOllama = ChatOllama(model=\"llama3\")\n",
    "\n",
    "\n",
    "# Create the LLM chain\n",
    "chain: LLMChain = chat_model|chat_prompt\n",
    "\n",
    "# make a call to the models\n",
    "prediction_msg: dict = chain.invoke(\n",
    "    original_sentence=\"I love Pizza!\", desired_language=\"French\")\n",
    "\n",
    "print(\"#######################################\")\n",
    "print(prediction_msg)\n",
    "print(\"#######################################\")"
   ]
  },
  {
   "cell_type": "code",
   "execution_count": null,
   "metadata": {},
   "outputs": [],
   "source": []
  },
  {
   "cell_type": "code",
   "execution_count": null,
   "metadata": {},
   "outputs": [],
   "source": []
  },
  {
   "cell_type": "code",
   "execution_count": null,
   "metadata": {},
   "outputs": [],
   "source": []
  },
  {
   "cell_type": "code",
   "execution_count": null,
   "metadata": {},
   "outputs": [],
   "source": []
  },
  {
   "cell_type": "code",
   "execution_count": null,
   "metadata": {},
   "outputs": [],
   "source": []
  },
  {
   "cell_type": "code",
   "execution_count": null,
   "metadata": {},
   "outputs": [],
   "source": []
  },
  {
   "cell_type": "code",
   "execution_count": null,
   "metadata": {},
   "outputs": [],
   "source": []
  },
  {
   "cell_type": "code",
   "execution_count": null,
   "metadata": {},
   "outputs": [],
   "source": []
  },
  {
   "cell_type": "code",
   "execution_count": null,
   "metadata": {},
   "outputs": [],
   "source": []
  },
  {
   "cell_type": "code",
   "execution_count": null,
   "metadata": {},
   "outputs": [],
   "source": []
  },
  {
   "cell_type": "code",
   "execution_count": null,
   "metadata": {},
   "outputs": [],
   "source": []
  },
  {
   "cell_type": "code",
   "execution_count": null,
   "metadata": {},
   "outputs": [],
   "source": []
  },
  {
   "cell_type": "code",
   "execution_count": null,
   "metadata": {},
   "outputs": [],
   "source": []
  }
 ],
 "metadata": {
  "kernelspec": {
   "display_name": "koala-JTGF2TUf",
   "language": "python",
   "name": "python3"
  },
  "language_info": {
   "codemirror_mode": {
    "name": "ipython",
    "version": 3
   },
   "file_extension": ".py",
   "mimetype": "text/x-python",
   "name": "python",
   "nbconvert_exporter": "python",
   "pygments_lexer": "ipython3",
   "version": "3.11.1"
  }
 },
 "nbformat": 4,
 "nbformat_minor": 2
}
